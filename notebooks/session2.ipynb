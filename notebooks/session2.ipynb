{
 "metadata": {
  "language_info": {
   "codemirror_mode": {
    "name": "ipython",
    "version": 3
   },
   "file_extension": ".py",
   "mimetype": "text/x-python",
   "name": "python",
   "nbconvert_exporter": "python",
   "pygments_lexer": "ipython3",
   "version": "3.9.1-final"
  },
  "orig_nbformat": 2,
  "kernelspec": {
   "name": "python3",
   "display_name": "Python 3.9.1 64-bit ('lang101')",
   "metadata": {
    "interpreter": {
     "hash": "f83fe114a38243497cda2af7ca9fa5789b73c769eefbf8cb7ed73d754edf80e0"
    }
   }
  }
 },
 "nbformat": 4,
 "nbformat_minor": 2,
 "cells": [
  {
   "source": [
    "## Concordance"
   ],
   "cell_type": "markdown",
   "metadata": {}
  },
  {
   "cell_type": "code",
   "execution_count": 1,
   "metadata": {},
   "outputs": [],
   "source": [
    "import re\n",
    "import string"
   ]
  },
  {
   "cell_type": "code",
   "execution_count": 3,
   "metadata": {},
   "outputs": [
    {
     "output_type": "execute_result",
     "data": {
      "text/plain": [
       "['It',\n",
       " 'was',\n",
       " 'the',\n",
       " 'best',\n",
       " 'of',\n",
       " 'times,',\n",
       " 'it',\n",
       " 'was',\n",
       " 'the',\n",
       " 'worst',\n",
       " 'of',\n",
       " 'times']"
      ]
     },
     "metadata": {},
     "execution_count": 3
    }
   ],
   "source": [
    "text = \"It was the best of times, it was the worst of times\"\n",
    "\n",
    "text.split()"
   ]
  },
  {
   "cell_type": "code",
   "execution_count": 5,
   "metadata": {},
   "outputs": [],
   "source": [
    "# A quick regex tokenizer for splitting strings\n",
    "\n",
    "def tokenize(input_string):\n",
    "    # Split on any non-alphanumeric character\n",
    "    tokenizer = re.compile(r\"\\W+\")\n",
    "    \n",
    "    # Tokenize \n",
    "    token_list = tokenizer.split(input_string)\n",
    "\n",
    "    return token_list"
   ]
  },
  {
   "cell_type": "code",
   "execution_count": 7,
   "metadata": {},
   "outputs": [
    {
     "output_type": "execute_result",
     "data": {
      "text/plain": [
       "['It',\n",
       " 'was',\n",
       " 'the',\n",
       " 'best',\n",
       " 'of',\n",
       " 'times',\n",
       " 'it',\n",
       " 'was',\n",
       " 'the',\n",
       " 'worst',\n",
       " 'of',\n",
       " 'times']"
      ]
     },
     "metadata": {},
     "execution_count": 7
    }
   ],
   "source": [
    "tokenized = tokenize(text)\n",
    "tokenized"
   ]
  },
  {
   "cell_type": "code",
   "execution_count": 9,
   "metadata": {},
   "outputs": [
    {
     "output_type": "execute_result",
     "data": {
      "text/plain": [
       "['I',\n",
       " 'modsætning',\n",
       " 'til',\n",
       " 'hvad',\n",
       " 'mange',\n",
       " 'tror',\n",
       " 'er',\n",
       " 'Lorem',\n",
       " 'Ipsum',\n",
       " 'ikke',\n",
       " 'bare',\n",
       " 'tilfældig',\n",
       " 'tekst',\n",
       " 'Det',\n",
       " 'stammer',\n",
       " 'fra',\n",
       " 'et',\n",
       " 'stykke',\n",
       " 'litteratur',\n",
       " 'på',\n",
       " 'latin',\n",
       " 'fra',\n",
       " 'år',\n",
       " '45',\n",
       " 'f',\n",
       " 'kr',\n",
       " 'hvilket',\n",
       " 'gør',\n",
       " 'teksten',\n",
       " 'over',\n",
       " '2000',\n",
       " 'år',\n",
       " 'gammel',\n",
       " 'Richard',\n",
       " 'McClintock',\n",
       " 'professor',\n",
       " 'i',\n",
       " 'latin',\n",
       " 'fra',\n",
       " 'Hampden',\n",
       " 'Sydney',\n",
       " 'universitet',\n",
       " 'i',\n",
       " 'Virginia',\n",
       " 'undersøgte',\n",
       " 'et',\n",
       " 'af',\n",
       " 'de',\n",
       " 'mindst',\n",
       " 'kendte',\n",
       " 'ord',\n",
       " 'consectetur',\n",
       " 'fra',\n",
       " 'en',\n",
       " 'del',\n",
       " 'af',\n",
       " 'Lorem',\n",
       " 'Ipsum',\n",
       " 'og',\n",
       " 'fandt',\n",
       " 'frem',\n",
       " 'til',\n",
       " 'dets',\n",
       " 'oprindelse',\n",
       " 'ved',\n",
       " 'at',\n",
       " 'studere',\n",
       " 'brugen',\n",
       " 'gennem',\n",
       " 'klassisk',\n",
       " 'litteratur',\n",
       " '']"
      ]
     },
     "metadata": {},
     "execution_count": 9
    }
   ],
   "source": [
    "text2 = \"I modsætning til hvad mange tror, er Lorem Ipsum ikke bare tilfældig tekst. Det stammer fra et stykke litteratur på latin fra år 45 f.kr., hvilket gør teksten over 2000 år gammel. Richard McClintock, professor i latin fra Hampden-Sydney universitet i Virginia, undersøgte et af de mindst kendte ord \\\"consectetur\\\" fra en del af Lorem Ipsum, og fandt frem til dets oprindelse ved at studere brugen gennem klassisk litteratur.\"\n",
    "\n",
    "tokenize(text2)"
   ]
  },
  {
   "source": [
    "## Code along: Creating a KWIC function"
   ],
   "cell_type": "markdown",
   "metadata": {}
  },
  {
   "cell_type": "code",
   "execution_count": 20,
   "metadata": {},
   "outputs": [],
   "source": [
    "def kwic(text, keyword, window_size=50):\n",
    "    for match in re.finditer(keyword, text):\n",
    "        word_start = match.start()\n",
    "        word_end = match.end()\n",
    "\n",
    "        left_window_start = max(0, word_start - window_size)\n",
    "        right_window_end = word_end + window_size\n",
    "\n",
    "        left_window = text[ left_window_start : word_start ]\n",
    "        right_window = text[ word_end : right_window_end ]\n",
    "\n",
    "        line = f\"{left_window}{keyword}{right_window}\"\n",
    "\n",
    "        print(line)"
   ]
  },
  {
   "cell_type": "code",
   "execution_count": 22,
   "metadata": {},
   "outputs": [
    {
     "output_type": "stream",
     "name": "stdout",
     "text": [
      "fra en del af Lorem Ipsum, og fandt frem til dets oprindelse ved at studere brugen gennem klassisk litteratur.\n"
     ]
    }
   ],
   "source": [
    "kwic(text2, \"oprindelse\")"
   ]
  },
  {
   "source": [
    "## Collocation\n",
    "\n",
    "http://collocations.de/index.html\n",
    "\n",
    "Se Ross' repo"
   ],
   "cell_type": "markdown",
   "metadata": {}
  },
  {
   "cell_type": "code",
   "execution_count": null,
   "metadata": {},
   "outputs": [],
   "source": [
    "for text in corpus:\n",
    "    # Calculate each of these\n",
    "    u = \n",
    "    v = \n",
    "    \n",
    "    R1 =\n",
    "    C1 =\n",
    "\n",
    "    # Length og text\n",
    "    N = len()\n",
    "\n",
    "    # Expected\n",
    "    E11 = R1*C1 / N\n",
    "\n",
    "    # Return MI\n",
    "    MI = log(O11/E11)"
   ]
  }
 ]
}