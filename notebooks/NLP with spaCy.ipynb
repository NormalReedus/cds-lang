{
 "cells": [
  {
   "cell_type": "code",
   "execution_count": 2,
   "metadata": {},
   "outputs": [],
   "source": [
    "import spacy"
   ]
  },
  {
   "cell_type": "code",
   "execution_count": 3,
   "metadata": {},
   "outputs": [],
   "source": [
    "# load language model\n",
    "nlp = spacy.load(\"en_core_web_sm\")"
   ]
  },
  {
   "cell_type": "code",
   "execution_count": 5,
   "metadata": {},
   "outputs": [
    {
     "data": {
      "text/plain": [
       "spacy.lang.en.English"
      ]
     },
     "execution_count": 5,
     "metadata": {},
     "output_type": "execute_result"
    }
   ],
   "source": [
    "# We are using the english language model\n",
    "type(nlp)"
   ]
  },
  {
   "cell_type": "code",
   "execution_count": 8,
   "metadata": {},
   "outputs": [
    {
     "data": {
      "text/plain": [
       "spacy.tokens.doc.Doc"
      ]
     },
     "execution_count": 8,
     "metadata": {},
     "output_type": "execute_result"
    }
   ],
   "source": [
    "# create Doc object\n",
    "doc = nlp(\"This is a string of arbitrary words that I just made up on the spot. Don't try to analyze this or anything.\")\n",
    "type(doc)"
   ]
  },
  {
   "cell_type": "code",
   "execution_count": 10,
   "metadata": {},
   "outputs": [
    {
     "name": "stdout",
     "output_type": "stream",
     "text": [
      "This is a string of arbitrary words that I just made up on the spot. Don't try to analyze this or anything.\n"
     ]
    }
   ],
   "source": [
    "print(doc) # prints like a string..."
   ]
  },
  {
   "cell_type": "markdown",
   "metadata": {},
   "source": [
    "## Tokens"
   ]
  },
  {
   "cell_type": "code",
   "execution_count": 12,
   "metadata": {},
   "outputs": [
    {
     "name": "stdout",
     "output_type": "stream",
     "text": [
      "This\n",
      "is\n",
      "a\n",
      "string\n",
      "of\n",
      "arbitrary\n",
      "words\n",
      "that\n",
      "I\n",
      "just\n",
      "made\n",
      "up\n",
      "on\n",
      "the\n",
      "spot\n",
      ".\n",
      "Do\n",
      "n't\n",
      "try\n",
      "to\n",
      "analyze\n",
      "this\n",
      "or\n",
      "anything\n",
      ".\n"
     ]
    }
   ],
   "source": [
    "# But acts like an iterable of tokens that have been tokenized\n",
    "for token in doc:\n",
    "    print(token.text)"
   ]
  },
  {
   "cell_type": "code",
   "execution_count": 38,
   "metadata": {},
   "outputs": [
    {
     "name": "stdout",
     "output_type": "stream",
     "text": [
      "This | this | DET | DT\n",
      "is | be | AUX | VBZ\n",
      "a | a | DET | DT\n",
      "string | string | NOUN | NN\n",
      "of | of | ADP | IN\n",
      "arbitrary | arbitrary | ADJ | JJ\n",
      "words | word | NOUN | NNS\n",
      "that | that | DET | WDT\n",
      "I | I | PRON | PRP\n",
      "just | just | ADV | RB\n",
      "made | make | VERB | VBD\n",
      "up | up | ADP | RP\n",
      "on | on | ADP | IN\n",
      "the | the | DET | DT\n",
      "spot | spot | NOUN | NN\n",
      ". | . | PUNCT | .\n",
      "Do | do | AUX | VB\n",
      "n't | n't | PART | RB\n",
      "try | try | VERB | VB\n",
      "to | to | PART | TO\n",
      "analyze | analyze | VERB | VB\n",
      "this | this | DET | DT\n",
      "or | or | CCONJ | CC\n",
      "anything | anything | PRON | NN\n",
      ". | . | PUNCT | .\n"
     ]
    }
   ],
   "source": [
    "for token in doc:\n",
    "    print(token.text, \"|\", token.lemma_, \"|\", token.pos_, \"|\", token.tag_)"
   ]
  },
  {
   "cell_type": "code",
   "execution_count": null,
   "metadata": {},
   "outputs": [],
   "source": []
  }
 ],
 "metadata": {
  "kernelspec": {
   "display_name": "lang101",
   "language": "python",
   "name": "lang101"
  },
  "language_info": {
   "codemirror_mode": {
    "name": "ipython",
    "version": 3
   },
   "file_extension": ".py",
   "mimetype": "text/x-python",
   "name": "python",
   "nbconvert_exporter": "python",
   "pygments_lexer": "ipython3",
   "version": "3.6.9"
  }
 },
 "nbformat": 4,
 "nbformat_minor": 4
}
