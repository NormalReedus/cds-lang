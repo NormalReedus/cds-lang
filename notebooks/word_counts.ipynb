{
 "metadata": {
  "language_info": {
   "codemirror_mode": {
    "name": "ipython",
    "version": 3
   },
   "file_extension": ".py",
   "mimetype": "text/x-python",
   "name": "python",
   "nbconvert_exporter": "python",
   "pygments_lexer": "ipython3",
   "version": "3.7.9-final"
  },
  "orig_nbformat": 2,
  "kernelspec": {
   "name": "python3",
   "display_name": "Python 3.7.9 64-bit ('lang101': conda)",
   "metadata": {
    "interpreter": {
     "hash": "941e9f66e1362ec28939889c2d6dc0c890a31d5cbdc1664a5443e90e7e6e2ea3"
    }
   }
  }
 },
 "nbformat": 4,
 "nbformat_minor": 2,
 "cells": [
  {
   "source": [
    "## Import required modules & specify paths"
   ],
   "cell_type": "markdown",
   "metadata": {}
  },
  {
   "cell_type": "code",
   "execution_count": 1,
   "metadata": {},
   "outputs": [],
   "source": [
    "import os\n",
    "from pathlib import Path\n",
    "\n",
    "novel_dir = os.path.join('..', 'data', '100_english_novels', 'corpus') # Road to our library\n",
    "novel_filenames = os.listdir(novel_dir) # A list of all of the books in our library\n",
    "outfile_path = os.path.join('..', 'data', '100_english_novels', 'word_counts.csv') # Where our output data is gonna live"
   ]
  },
  {
   "source": [
    "## Write headers to the output file (not strictly necessary)"
   ],
   "cell_type": "markdown",
   "metadata": {}
  },
  {
   "cell_type": "code",
   "execution_count": 2,
   "metadata": {},
   "outputs": [],
   "source": [
    "with open(outfile_path, 'w', encoding='utf-8') as fh_out: # Returns the file handle of the output file in write mode\n",
    "    fh_out.write('filename,total_words,unique_words\\n') # Hardcoded one line of headers in a Comma-separated Values format"
   ]
  },
  {
   "source": [
    "## Calculate words & write to CSV"
   ],
   "cell_type": "markdown",
   "metadata": {}
  },
  {
   "cell_type": "code",
   "execution_count": 3,
   "metadata": {
    "tags": []
   },
   "outputs": [],
   "source": [
    "for novel_filename in novel_filenames:\n",
    "    novel_file_path = os.path.join(novel_dir, novel_filename) # '../data/100_english_novels/corpus/Anon_Clara_1864.txt' et cetera\n",
    "\n",
    "    with open(novel_file_path, 'r', encoding='utf-8') as fh_in:\n",
    "        content = fh_in.read() # Reads the whole text string\n",
    "        words = content.split() # Splits (implicitly) on spaces - returns list of tokens\n",
    "        total_words = len(words) # The length of the former list is the amount of tokens\n",
    "        unique_words = len(set(words)) # Coercing the list of tokens into a set removes all duplicates - The size of the set is the amount of unique tokens\n",
    "\n",
    "        with open(outfile_path, 'a', encoding='utf-8') as fh_out: # Returns file handle of output file in append mode\n",
    "            fh_out.write(f'{novel_filename},{total_words},{unique_words}\\n') # Commas denote a new value, newlines denote a new row"
   ]
  }
 ]
}