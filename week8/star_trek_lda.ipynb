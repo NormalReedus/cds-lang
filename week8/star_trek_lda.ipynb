{
 "metadata": {
  "language_info": {
   "codemirror_mode": {
    "name": "ipython",
    "version": 3
   },
   "file_extension": ".py",
   "mimetype": "text/x-python",
   "name": "python",
   "nbconvert_exporter": "python",
   "pygments_lexer": "ipython3",
   "version": "3.8.6-final"
  },
  "orig_nbformat": 2,
  "kernelspec": {
   "name": "python3",
   "display_name": "Python 3.8.6 64-bit ('lang101')",
   "metadata": {
    "interpreter": {
     "hash": "322031f4f86eeb25db424315566f393e7d39454e4bf688abe7873b74215d971e"
    }
   }
  }
 },
 "nbformat": 4,
 "nbformat_minor": 2,
 "cells": [
  {
   "cell_type": "code",
   "execution_count": 2,
   "metadata": {},
   "outputs": [
    {
     "output_type": "stream",
     "name": "stderr",
     "text": [
      "/home/magnus/dev-school/cds-language-analytics/lang101/lib/python3.8/site-packages/ipykernel/pylab/config.py:70: DeprecationWarning: InlineBackend._figure_formats_changed is deprecated in traitlets 4.1: use @observe and @unobserve instead.\n",
      "  def _figure_formats_changed(self, name, old, new):\n",
      "/home/magnus/dev-school/cds-language-analytics/lang101/lib/python3.8/site-packages/scipy/sparse/sparsetools.py:21: DeprecationWarning: `scipy.sparse.sparsetools` is deprecated!\n",
      "scipy.sparse.sparsetools is a private module for scipy.sparse, and should not be used.\n",
      "  _deprecated()\n",
      "[nltk_data] Downloading package stopwords to /home/magnus/nltk_data...\n",
      "[nltk_data]   Package stopwords is already up-to-date!\n"
     ]
    }
   ],
   "source": [
    "# standard library\n",
    "import sys,os\n",
    "sys.path.append('..')\n",
    "from pprint import pprint\n",
    "\n",
    "# data and nlp\n",
    "import pandas as pd\n",
    "import spacy\n",
    "nlp = spacy.load(\"en_core_web_sm\", disable=[\"ner\"])\n",
    "\n",
    "# visualisation\n",
    "import pyLDAvis\n",
    "pyLDAvis.enable_notebook()\n",
    "import seaborn as sns\n",
    "from matplotlib import rcParams\n",
    "# figure size in inches\n",
    "rcParams['figure.figsize'] = 20,10\n",
    "\n",
    "\n",
    "# LDA tools\n",
    "import gensim\n",
    "import gensim.corpora as corpora\n",
    "from gensim.models import CoherenceModel\n",
    "from utils import lda_utils\n",
    "\n",
    "# warnings\n",
    "import logging, warnings\n",
    "warnings.filterwarnings('ignore')\n",
    "logging.basicConfig(format='%(asctime)s : %(levelname)s : %(message)s', level=logging.ERROR)"
   ]
  },
  {
   "cell_type": "code",
   "execution_count": 3,
   "metadata": {
    "tags": []
   },
   "outputs": [
    {
     "output_type": "execute_result",
     "data": {
      "text/plain": [
       "['Yes, Major?',\n",
       " \"My security array has been down for two hours. I'llmeet you there.\",\n",
       " 'All right, just stand where you are.',\n",
       " 'Who the hell are you?',\n",
       " \"I don't allow weapons on the Promenade. That includes phasers.\",\n",
       " \"The boy's in a lot of trouble.\",\n",
       " \"I'm curious myself. The man is a gambler and a thief.\",\n",
       " 'You are a thief.',\n",
       " 'Seems reasonable. You have all the character references of apolitician.',\n",
       " 'And a thief.',\n",
       " \"You know, at first, I didn't think I was going to like him.\",\n",
       " \"This is a security matter. I'm in charge of security.\",\n",
       " \"Major, I was found in the Denorios Belt. I don't know where I camefrom, no idea if there are any others like me. All my life, I've beenforced to pass myself off as one of you, always wondering who I reallyam. Well, the answers to a lot of my questions may be somewhere on theother side of that wormhole. You coming?\",\n",
       " \"Doctor, most people in my experience wouldn't know reason if itwalked up and shook their hand. You can count Gul Dukat among them.\",\n",
       " 'Dukat, these people are trying to save you from a lot of trouble.',\n",
       " 'So much for reason.',\n",
       " 'Quickly now, quickly now. Calmly. Calmly. Come along.',\n",
       " 'Odo to Ops.',\n",
       " \"I've got wounded people down here.\",\n",
       " 'Have you seen that doctor of yours anywhere?',\n",
       " 'Look, Doctor, maybe I should find you someone']"
      ]
     },
     "metadata": {},
     "execution_count": 3
    }
   ],
   "source": [
    "import json\n",
    "\n",
    "# Unfortunately newlines have been parsed as nothing insteaf of spaces\n",
    "# but the script will work just the same\n",
    "with open('data/all_series_lines.json') as file:\n",
    "    content = file.read()\n",
    "    line_dict = json.loads(content)\n",
    "\n",
    "line_dict['DS9']['episode 0']['ODO']"
   ]
  },
  {
   "cell_type": "code",
   "execution_count": 24,
   "metadata": {
    "tags": []
   },
   "outputs": [
    {
     "output_type": "stream",
     "name": "stdout",
     "text": [
      "ENT_0\nENT_1\nENT_2\nENT_3\nENT_4\nENT_5\nENT_6\nENT_7\nENT_8\nENT_9\nENT_10\nENT_11\nENT_12\nENT_13\nENT_14\nENT_15\nENT_16\nENT_17\nENT_18\nENT_19\nENT_20\nENT_21\nENT_22\nENT_23\nENT_24\nENT_25\nENT_26\nENT_27\nENT_28\nENT_29\nENT_30\nENT_31\nENT_32\nENT_33\nENT_34\nENT_35\nENT_36\nENT_37\nENT_38\nENT_39\nENT_40\nENT_41\nENT_42\nENT_43\nENT_44\nENT_45\nENT_46\nENT_47\nENT_48\nENT_49\nENT_50\nENT_51\nENT_52\nENT_53\nENT_54\nENT_55\nENT_56\nENT_57\nENT_58\nENT_59\nENT_60\nENT_61\nENT_62\nENT_63\nENT_64\nENT_65\nENT_66\nENT_67\nENT_68\nENT_69\nENT_70\nENT_71\nENT_72\nENT_73\nENT_74\nENT_75\nENT_76\nENT_77\nENT_78\nENT_79\nENT_80\nENT_81\nENT_82\nENT_83\nENT_84\nENT_85\nENT_86\nENT_87\nENT_88\nENT_89\nENT_90\nENT_91\nENT_92\nENT_93\nENT_94\nENT_95\nENT_96\nDS9_0\nDS9_1\nDS9_2\nDS9_3\nDS9_4\nDS9_5\nDS9_6\nDS9_7\nDS9_8\nDS9_9\nDS9_10\nDS9_11\nDS9_12\nDS9_13\nDS9_14\nDS9_15\nDS9_16\nDS9_17\nDS9_18\nDS9_19\nDS9_20\nDS9_21\nDS9_22\nDS9_23\nDS9_24\nDS9_25\nDS9_26\nDS9_27\nDS9_28\nDS9_29\nDS9_30\nDS9_31\nDS9_32\nDS9_33\nDS9_34\nDS9_35\nDS9_36\nDS9_37\nDS9_38\nDS9_39\nDS9_40\nDS9_41\nDS9_42\nDS9_43\nDS9_44\nDS9_45\nDS9_46\nDS9_47\nDS9_48\nDS9_49\nDS9_50\nDS9_51\nDS9_52\nDS9_53\nDS9_54\nDS9_55\nDS9_56\nDS9_57\nDS9_58\nDS9_59\nDS9_60\nDS9_61\nDS9_62\nDS9_63\nDS9_64\nDS9_65\nDS9_66\nDS9_67\nDS9_68\nDS9_69\nDS9_70\nDS9_71\nDS9_72\nDS9_73\nDS9_74\nDS9_75\nDS9_76\nDS9_77\nDS9_78\nDS9_79\nDS9_80\nDS9_81\nDS9_82\nDS9_83\nDS9_84\nDS9_85\nDS9_86\nDS9_87\nDS9_88\nDS9_89\nDS9_90\nDS9_91\nDS9_92\nDS9_93\nDS9_94\nDS9_95\nDS9_96\nDS9_97\nDS9_98\nDS9_99\nDS9_100\nDS9_101\nDS9_102\nDS9_103\nDS9_104\nDS9_105\nDS9_106\nDS9_107\nDS9_108\nDS9_109\nDS9_110\nDS9_111\nDS9_112\nDS9_113\nDS9_114\nDS9_115\nDS9_116\nDS9_117\nDS9_118\nDS9_119\nDS9_120\nDS9_121\nDS9_122\nDS9_123\nDS9_124\nDS9_125\nDS9_126\nDS9_127\nDS9_128\nDS9_129\nDS9_130\nDS9_131\nDS9_132\nDS9_133\nDS9_134\nDS9_135\nDS9_136\nDS9_137\nDS9_138\nDS9_139\nDS9_140\nDS9_141\nDS9_142\nDS9_143\nDS9_144\nDS9_145\nDS9_146\nDS9_147\nDS9_148\nDS9_149\nDS9_150\nDS9_151\nDS9_152\nDS9_153\nDS9_154\nDS9_155\nDS9_156\nDS9_157\nDS9_158\nDS9_159\nDS9_160\nDS9_161\nDS9_162\nDS9_163\nDS9_164\nDS9_165\nDS9_166\nDS9_167\nDS9_168\nDS9_169\nDS9_170\nDS9_171\nDS9_172\nTOS_0\nTOS_1\nTOS_2\nTOS_3\nTOS_4\nTOS_5\nTOS_6\nTOS_7\nTOS_8\nTOS_9\nTOS_10\nTOS_11\nTOS_12\nTOS_13\nTOS_14\nTOS_15\nTOS_16\nTOS_17\nTOS_18\nTOS_19\nTOS_20\nTOS_21\nTOS_22\nTOS_23\nTOS_24\nTOS_25\nTOS_26\nTOS_27\nTOS_28\nTOS_29\nTOS_30\nTOS_31\nTOS_32\nTOS_33\nTOS_34\nTOS_35\nTOS_36\nTOS_37\nTOS_38\nTOS_39\nTOS_40\nTOS_41\nTOS_42\nTOS_43\nTOS_44\nTOS_45\nTOS_46\nTOS_47\nTOS_48\nTOS_49\nTOS_50\nTOS_51\nTOS_52\nTOS_53\nTOS_54\nTOS_55\nTOS_56\nTOS_57\nTOS_58\nTOS_59\nTOS_60\nTOS_61\nTOS_62\nTOS_63\nTOS_64\nTOS_65\nTOS_66\nTOS_67\nTOS_68\nTOS_69\nTOS_70\nTOS_71\nTOS_72\nTOS_73\nTOS_74\nTOS_75\nTOS_76\nTOS_77\nTOS_78\nTOS_79\nTAS_0\nTAS_1\nTAS_2\nTAS_3\nTAS_4\nTAS_5\nTAS_6\nTAS_7\nTAS_8\nTAS_9\nTAS_10\nTAS_11\nTAS_12\nTAS_13\nTAS_14\nTAS_15\nTAS_16\nTAS_17\nTAS_18\nTAS_19\nTAS_20\nTAS_21\nTNG_0\nTNG_1\nTNG_2\nTNG_3\nTNG_4\nTNG_5\nTNG_6\nTNG_7\nTNG_8\nTNG_9\nTNG_10\nTNG_11\nTNG_12\nTNG_13\nTNG_14\nTNG_15\nTNG_16\nTNG_17\nTNG_18\nTNG_19\nTNG_20\nTNG_21\nTNG_22\nTNG_23\nTNG_24\nTNG_25\nTNG_26\nTNG_27\nTNG_28\nTNG_29\nTNG_30\nTNG_31\nTNG_32\nTNG_33\nTNG_34\nTNG_35\nTNG_36\nTNG_37\nTNG_38\nTNG_39\nTNG_40\nTNG_41\nTNG_42\nTNG_43\nTNG_44\nTNG_45\nTNG_46\nTNG_47\nTNG_48\nTNG_49\nTNG_50\nTNG_51\nTNG_52\nTNG_53\nTNG_54\nTNG_55\nTNG_56\nTNG_57\nTNG_58\nTNG_59\nTNG_60\nTNG_61\nTNG_62\nTNG_63\nTNG_64\nTNG_65\nTNG_66\nTNG_67\nTNG_68\nTNG_69\nTNG_70\nTNG_71\nTNG_72\nTNG_73\nTNG_74\nTNG_75\nTNG_76\nTNG_77\nTNG_78\nTNG_79\nTNG_80\nTNG_81\nTNG_82\nTNG_83\nTNG_84\nTNG_85\nTNG_86\nTNG_87\nTNG_88\nTNG_89\nTNG_90\nTNG_91\nTNG_92\nTNG_93\nTNG_94\nTNG_95\nTNG_96\nTNG_97\nTNG_98\nTNG_99\nTNG_100\nTNG_101\nTNG_102\nTNG_103\nTNG_104\nTNG_105\nTNG_106\nTNG_107\nTNG_108\nTNG_109\nTNG_110\nTNG_111\nTNG_112\nTNG_113\nTNG_114\nTNG_115\nTNG_116\nTNG_117\nTNG_118\nTNG_119\nTNG_120\nTNG_121\nTNG_122\nTNG_123\nTNG_124\nTNG_125\nTNG_126\nTNG_127\nTNG_128\nTNG_129\nTNG_130\nTNG_131\nTNG_132\nTNG_133\nTNG_134\nTNG_135\nTNG_136\nTNG_137\nTNG_138\nTNG_139\nTNG_140\nTNG_141\nTNG_142\nTNG_143\nTNG_144\nTNG_145\nTNG_146\nTNG_147\nTNG_148\nTNG_149\nTNG_150\nTNG_151\nTNG_152\nTNG_153\nTNG_154\nTNG_155\nTNG_156\nTNG_157\nTNG_158\nTNG_159\nTNG_160\nTNG_161\nTNG_162\nTNG_163\nTNG_164\nTNG_165\nTNG_166\nTNG_167\nTNG_168\nTNG_169\nTNG_170\nTNG_171\nTNG_172\nTNG_173\nTNG_174\nTNG_175\nVOY_0\nVOY_1\nVOY_2\nVOY_3\nVOY_4\nVOY_5\nVOY_6\nVOY_7\nVOY_8\nVOY_9\nVOY_10\nVOY_11\nVOY_12\nVOY_13\nVOY_14\nVOY_15\nVOY_16\nVOY_17\nVOY_18\nVOY_19\nVOY_20\nVOY_21\nVOY_22\nVOY_23\nVOY_24\nVOY_25\nVOY_26\nVOY_27\nVOY_28\nVOY_29\nVOY_30\nVOY_31\nVOY_32\nVOY_33\nVOY_34\nVOY_35\nVOY_36\nVOY_37\nVOY_38\nVOY_39\nVOY_40\nVOY_41\nVOY_42\nVOY_43\nVOY_44\nVOY_45\nVOY_46\nVOY_47\nVOY_48\nVOY_49\nVOY_50\nVOY_51\nVOY_52\nVOY_53\nVOY_54\nVOY_55\nVOY_56\nVOY_57\nVOY_58\nVOY_59\nVOY_60\nVOY_61\nVOY_62\nVOY_63\nVOY_64\nVOY_65\nVOY_66\nVOY_67\nVOY_68\nVOY_69\nVOY_70\nVOY_71\nVOY_72\nVOY_73\nVOY_74\nVOY_75\nVOY_76\nVOY_77\nVOY_78\nVOY_79\nVOY_80\nVOY_81\nVOY_82\nVOY_83\nVOY_84\nVOY_85\nVOY_86\nVOY_87\nVOY_88\nVOY_89\nVOY_90\nVOY_91\nVOY_92\nVOY_93\nVOY_94\nVOY_95\nVOY_96\nVOY_97\nVOY_98\nVOY_99\nVOY_100\nVOY_101\nVOY_102\nVOY_103\nVOY_104\nVOY_105\nVOY_106\nVOY_107\nVOY_108\nVOY_109\nVOY_110\nVOY_111\nVOY_112\nVOY_113\nVOY_114\nVOY_115\nVOY_116\nVOY_117\nVOY_118\nVOY_119\nVOY_120\nVOY_121\nVOY_122\nVOY_123\nVOY_124\nVOY_125\nVOY_126\nVOY_127\nVOY_128\nVOY_129\nVOY_130\nVOY_131\nVOY_132\nVOY_133\nVOY_134\nVOY_135\nVOY_136\nVOY_137\nVOY_138\nVOY_139\nVOY_140\nVOY_141\nVOY_142\nVOY_143\nVOY_144\nVOY_145\nVOY_146\nVOY_147\nVOY_148\nVOY_149\nVOY_150\nVOY_151\nVOY_152\nVOY_153\nVOY_154\nVOY_155\nVOY_156\nVOY_157\nVOY_158\nVOY_159\n"
     ]
    }
   ],
   "source": [
    "episodes = {}\n",
    "\n",
    "for series_name, series in line_dict.items():\n",
    "    for episode_name, episode in series.items():\n",
    "        episode_string = ''\n",
    "\n",
    "        for character_lines in episode.values():\n",
    "            lines = ' '.join(character_lines)\n",
    "            \n",
    "            # Avoid adding just spaces\n",
    "            if len(lines) != 0:\n",
    "                episode_string += ' ' + lines\n",
    "\n",
    "        # Add the string containing all lines from the episode to our dict\n",
    "        episode_key = series_name + '_' + episode_name.split()[1]\n",
    "        episodes[episode_key] = episode_string\n",
    "\n"
   ]
  }
 ]
}